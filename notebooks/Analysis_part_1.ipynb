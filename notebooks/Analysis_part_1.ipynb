{
 "cells": [
  {
   "cell_type": "code",
   "execution_count": 1,
   "metadata": {},
   "outputs": [],
   "source": [
    "%load_ext autoreload\n",
    "%autoreload 2"
   ]
  },
  {
   "cell_type": "code",
   "execution_count": 2,
   "metadata": {},
   "outputs": [],
   "source": [
    "from NHACK.utils import load_pkg_yaml"
   ]
  },
  {
   "cell_type": "code",
   "execution_count": 7,
   "metadata": {},
   "outputs": [],
   "source": [
    "my_congif=load_pkg_yaml()"
   ]
  },
  {
   "cell_type": "code",
   "execution_count": 8,
   "metadata": {},
   "outputs": [
    {
     "data": {
      "text/plain": [
       "{'paths': {'atlaspath': 'Documents/atlases/'},\n",
       " 'preprocessing': {'zscore_data': True,\n",
       "  'filter_data': True,\n",
       "  'filter_params': {'window_length': 201, 'polyorder': 3}},\n",
       " 'analysis': {'subjects_to_analyse': ['01', '02', '03', '04'],\n",
       "  'ROIS': ['V1', 'V2', 'V3'],\n",
       "  'njobs': 60,\n",
       "  'backend_engine': 'torch'},\n",
       " 'plotting': {'figsize_x': 6, 'figsize_y': 4, 'dpi': 300},\n",
       " 'Output': {'format': 'pdf'},\n",
       " 'p_paths': {'data_dir': '/Users/nicholashedger/MY_NHACK_REPO/data',\n",
       "  'docs_dir': '/Users/nicholashedger/MY_NHACK_REPO/docs',\n",
       "  'results_dir': '/Users/nicholashedger/MY_NHACK_REPO/results',\n",
       "  'scripts_dir': '/Users/nicholashedger/MY_NHACK_REPO/scripts',\n",
       "  'tests_dir': '/Users/nicholashedger/MY_NHACK_REPO/tests'}}"
      ]
     },
     "execution_count": 8,
     "metadata": {},
     "output_type": "execute_result"
    }
   ],
   "source": [
    "my_congif"
   ]
  },
  {
   "cell_type": "code",
   "execution_count": 9,
   "metadata": {},
   "outputs": [],
   "source": [
    "from NHACK.analysis import plus_one"
   ]
  },
  {
   "cell_type": "code",
   "execution_count": 12,
   "metadata": {},
   "outputs": [
    {
     "name": "stdout",
     "output_type": "stream",
     "text": [
      "2 1\n"
     ]
    }
   ],
   "source": [
    "newval=plus_one(1)"
   ]
  },
  {
   "cell_type": "code",
   "execution_count": 11,
   "metadata": {},
   "outputs": [
    {
     "data": {
      "text/plain": [
       "2"
      ]
     },
     "execution_count": 11,
     "metadata": {},
     "output_type": "execute_result"
    }
   ],
   "source": [
    "newval"
   ]
  },
  {
   "cell_type": "code",
   "execution_count": null,
   "metadata": {},
   "outputs": [],
   "source": []
  }
 ],
 "metadata": {
  "kernelspec": {
   "display_name": "py3env",
   "language": "python",
   "name": "py3env"
  },
  "language_info": {
   "codemirror_mode": {
    "name": "ipython",
    "version": 3
   },
   "file_extension": ".py",
   "mimetype": "text/x-python",
   "name": "python",
   "nbconvert_exporter": "python",
   "pygments_lexer": "ipython3",
   "version": "3.6.10"
  }
 },
 "nbformat": 4,
 "nbformat_minor": 4
}
